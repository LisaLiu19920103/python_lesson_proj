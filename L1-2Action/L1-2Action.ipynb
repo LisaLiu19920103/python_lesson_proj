{
 "cells": [
  {
   "cell_type": "markdown",
   "metadata": {},
   "source": [
    "Thinking1  当我们思考数据源的时候，都有哪些维度，如果你想要使用爬虫抓取数据，都有哪些工具\n",
    "\n",
    "        答：数据源包括：1.开放数据源，各大开放数据平台，例如中国中国统计信息网，其中就有很多政府公开的统计数据。2.爬虫在各个网页或者应用中         抓取的数据。3.传感器数据，比如智能家电获取的温度、湿度等等相关数据，运动手环获取的人体心率、血压等数据。4.日志采集，通过埋点的方式         获取用户的网页浏览路径数据等。\n",
    "        爬虫工具包括：1.用python库，例如beautifulsoup+requests工具包抓取处理网页信息。2.第三方的数据采集工具，例如火车头、搜集客、八爪鱼         等，可用他们提供的一些数据处理模板识别目标网页并进行抓取。3.用自动化测试工具模拟人操作收集数据，例如Selenium。\n",
    "  \n",
    "Thinking2  企业的数据源来自多个维度，请思考什么是企业的数据中台，你是如何理解一方数据，二方数据，三方数据？\n",
    "\n",
    "        答：一方数据为企业通过自己的产品获得的一手用户信息，二方数据是企业通过公开信息源获得的数据，三方数据是企业通过专业的数据提供方获取         的数据。数据中台就是整个架构中对数据进行清洗、整合、标准化、建模并获得对企业有价值的信息的环节。\n",
    "\n"
   ]
  },
  {
   "cell_type": "markdown",
   "metadata": {},
   "source": [
    "Action1  不用任何数学库，如何求出sqrt(10)，并且精确到小数点后10位"
   ]
  },
  {
   "cell_type": "code",
   "execution_count": 9,
   "metadata": {},
   "outputs": [
    {
     "name": "stdout",
     "output_type": "stream",
     "text": [
      "3.5\n",
      "3.25\n",
      "3.125\n",
      "3.1875\n",
      "3.15625\n",
      "3.171875\n",
      "3.1640625\n",
      "3.16015625\n",
      "3.162109375\n",
      "3.1630859375\n",
      "3.16259765625\n",
      "3.162353515625\n",
      "3.1622314453125\n",
      "3.16229248046875\n",
      "3.162261962890625\n",
      "3.1622772216796875\n",
      "3.1622848510742188\n",
      "3.162281036376953\n",
      "3.1622791290283203\n",
      "3.162278175354004\n",
      "3.1622776985168457\n",
      "3.1622774600982666\n",
      "3.162277579307556\n",
      "3.162277638912201\n",
      "3.1622776687145233\n",
      "3.162277653813362\n",
      "3.1622776612639427\n",
      "3.1622776575386524\n",
      "3.1622776594012976\n",
      "3.16227766033262\n",
      "3.162277659866959\n",
      "3.1622776600997895\n",
      "3.162277660216205\n",
      "3.162277660157997\n",
      "3.162277660187101\n",
      "3.1622776602\n"
     ]
    }
   ],
   "source": [
    "a=3\n",
    "b=4\n",
    "exp=1e-10\n",
    "result=10\n",
    "while exp<b-a:\n",
    "    if(10>((a+b)/2)*((a+b)/2)):\n",
    "        a=(a+b)/2\n",
    "        print(a)\n",
    "    else:\n",
    "        b=(a+b)/2\n",
    "        print(b)\n",
    "    result=(a+b)/2\n",
    "print(result)\n",
    "print(round(result,10))"
   ]
  },
  {
   "cell_type": "code",
   "execution_count": 8,
   "metadata": {},
   "outputs": [
    {
     "name": "stdout",
     "output_type": "stream",
     "text": [
      "5.820766091346741e-11\n",
      "2.3283064365386963e-10\n"
     ]
    }
   ],
   "source": [
    "print(3.162277660216205-3.162277660157997)\n",
    "print(3.1622776600997895-3.162277659866959)\n",
    "#计算了一下最后两组数的差，验证位数"
   ]
  },
  {
   "cell_type": "markdown",
   "metadata": {},
   "source": [
    "Action2 汽车投诉信息采集：\n",
    "      数据源：http://www.12365auto.com/zlts/0-0-0-0-0-0_0-0-1.shtml\n",
    "      投诉编号，投诉品牌，投诉车系，投诉车型，问题简述，典型问题，投诉时间，投诉状态\n",
    "      可以采用Python爬虫，或者第三方可视化工具"
   ]
  },
  {
   "cell_type": "code",
   "execution_count": 1,
   "metadata": {},
   "outputs": [],
   "source": [
    "from bs4 import BeautifulSoup\n",
    "import requests\n",
    "import pandas as pd\n",
    "base_url='http://www.12365auto.com/zlts/0-0-0-0-0-0_0-0-0-0-0-0-0-'\n",
    "target_url='http://www.12365auto.com/zlts/0-0-0-0-0-0_0-0-1.shtml'\n",
    "header='Mozilla/5.0 (Windows NT 10.0; Win64; x64; rv:80.0) Gecko/20100101 Firefox/80.0'\n",
    "page_count=20;\n",
    "\n",
    "def gethtml_content(page):\n",
    "    target_url=base_url+str(page)+'.shtml'\n",
    "    html_content=requests.get(target_url,header,timeout=10)\n",
    "    bs=BeautifulSoup(html_content.text, 'html.parser')\n",
    "    return bs\n",
    "def analysis_content(bs):\n",
    "    temp=bs.find('div',class_=\"tslb_b\")\n",
    "    df = pd.DataFrame(columns = ['id','brand','car_model', 'type', 'desc', 'problem', 'datetime', 'status'])\n",
    "    tr_list = temp.find_all('tr')\n",
    "   # print(tr_list)\n",
    "    for tr in tr_list:\n",
    "        # ToDo：提取汽车投诉信息  \n",
    "        td_list= tr.find_all('td')\n",
    "        if(len(td_list)>0):\n",
    "            temp={}\n",
    "           # id=td_list[0].text\n",
    "            id,brand,car_model,type,desc,problem,datetime,status=td_list[0].text,td_list[1].text,td_list[2].text,td_list[3].text,td_list[4].text,td_list[5].text,td_list[6].text,td_list[7].text\n",
    "            temp['id'],temp['brand'],temp['car_model'],temp['type'],temp['desc'],temp['problem'],temp['datetime'],temp['status']=id,brand,car_model,type,desc,problem,datetime,status\n",
    "            df=df.append(temp,ignore_index=True)\n",
    "    return df\n",
    "           # print('df')\n",
    "            #print(df)\n",
    "            #print(id,brand,car_model,type,desc,problem,datetime,status)\n",
    "\n",
    "\n",
    "#    return df\n",
    "result = pd.DataFrame(columns = ['id','brand','car_model', 'type', 'desc', 'problem', 'datetime', 'status'])    \n",
    "\n",
    "for i in range(page_count):\n",
    "    bs=gethtml_content(i)\n",
    "    df=analysis_content(bs)\n",
    "    result=result.append(df)\n",
    "#print(df)\n",
    "#print(result)    \n",
    "result.to_csv('lyr_car_complain.csv', index=False)\n",
    "#结果存储在lyr_car_complain.csv中\n",
    "#print(gethtml_content(1))\n",
    "\n"
   ]
  },
  {
   "cell_type": "code",
   "execution_count": null,
   "metadata": {},
   "outputs": [],
   "source": []
  }
 ],
 "metadata": {
  "kernelspec": {
   "display_name": "Python 3",
   "language": "python",
   "name": "python3"
  },
  "language_info": {
   "codemirror_mode": {
    "name": "ipython",
    "version": 3
   },
   "file_extension": ".py",
   "mimetype": "text/x-python",
   "name": "python",
   "nbconvert_exporter": "python",
   "pygments_lexer": "ipython3",
   "version": "3.7.2"
  },
  "toc": {
   "base_numbering": 1,
   "nav_menu": {},
   "number_sections": true,
   "sideBar": true,
   "skip_h1_title": false,
   "title_cell": "Table of Contents",
   "title_sidebar": "Contents",
   "toc_cell": false,
   "toc_position": {},
   "toc_section_display": true,
   "toc_window_display": false
  }
 },
 "nbformat": 4,
 "nbformat_minor": 4
}
