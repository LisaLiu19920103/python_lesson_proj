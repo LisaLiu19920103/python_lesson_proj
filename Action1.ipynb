{
 "cells": [
  {
   "cell_type": "markdown",
   "metadata": {},
   "source": [
    "#Thinking1 既然内容相似度计算简单，能频繁更新，为什么还需要协同过滤算法呢？\n",
    "答：内容相似度计算会导致推荐结果种类单一，导致用户接触到的信息种类越来约窄。\n",
    "\n",
    "#Thinking2 你需要推荐系统么？哪些情况下不需要推荐系统？\n",
    "答：使用类似于微博，淘宝这种海量信息的应用，需要通过推荐系统来减少我的购物或者获取信息的时间成本，但是对于一些功能比较单一，我使用目的非常明确的app则不需要推荐系统，例如遥控精灵，我使用它只是为了匹配我需要遥控的空调品牌和类型，不需要推荐系统。\n",
    "\n",
    "#Thinking3 如果给一个视频打标签，视频中有音乐作为背景音乐，采用了NLP方式对内容自动打标签，可能存在什么问题？\n",
    "答：背景音乐歌词内容与视频本身的内容可能并没有强相关性，直接使用NLP对背景音乐进行打标签可能将视频分类到错误的类别中，让推荐的内容变得混乱"
   ]
  },
  {
   "cell_type": "markdown",
   "metadata": {},
   "source": [
    "Action1\n",
    "针对mnist数据集进行分类，采用CART决策树（工具使用sklearn中的CART）"
   ]
  },
  {
   "cell_type": "code",
   "execution_count": 9,
   "metadata": {},
   "outputs": [
    {
     "name": "stdout",
     "output_type": "stream",
     "text": [
      "(1797, 64)\n",
      "[[ 0.  0.  5. 13.  9.  1.  0.  0.]\n",
      " [ 0.  0. 13. 15. 10. 15.  5.  0.]\n",
      " [ 0.  3. 15.  2.  0. 11.  8.  0.]\n",
      " [ 0.  4. 12.  0.  0.  8.  8.  0.]\n",
      " [ 0.  5.  8.  0.  0.  9.  8.  0.]\n",
      " [ 0.  4. 11.  0.  1. 12.  7.  0.]\n",
      " [ 0.  2. 14.  5. 10. 12.  0.  0.]\n",
      " [ 0.  0.  6. 13. 10.  0.  0.  0.]]\n",
      "0\n",
      "深度: 5.0000\n",
      "CART准确率: 0.6644\n",
      "深度: 6.0000\n",
      "CART准确率: 0.7756\n",
      "深度: 7.0000\n",
      "CART准确率: 0.8356\n",
      "深度: 8.0000\n",
      "CART准确率: 0.8422\n",
      "深度: 9.0000\n",
      "CART准确率: 0.8533\n",
      "深度: 10.0000\n",
      "CART准确率: 0.8578\n",
      "深度: 11.0000\n",
      "CART准确率: 0.8467\n",
      "深度: 12.0000\n",
      "CART准确率: 0.8600\n",
      "深度: 13.0000\n",
      "CART准确率: 0.8489\n",
      "深度: 14.0000\n",
      "CART准确率: 0.8622\n",
      "深度: 15.0000\n",
      "CART准确率: 0.8467\n",
      "深度: 16.0000\n",
      "CART准确率: 0.8556\n",
      "深度: 17.0000\n",
      "CART准确率: 0.8533\n",
      "深度: 18.0000\n",
      "CART准确率: 0.8400\n",
      "深度: 19.0000\n",
      "CART准确率: 0.8511\n",
      "深度: 20.0000\n",
      "CART准确率: 0.8444\n",
      "深度: 21.0000\n",
      "CART准确率: 0.8400\n",
      "深度: 22.0000\n",
      "CART准确率: 0.8511\n",
      "深度: 23.0000\n",
      "CART准确率: 0.8400\n",
      "深度: 24.0000\n",
      "CART准确率: 0.8622\n",
      "深度: 25.0000\n",
      "CART准确率: 0.8533\n",
      "————不同的深度值对应的准确率————\n"
     ]
    },
    {
     "data": {
      "text/plain": [
       "Text(0, 0.5, 'accuracy')"
      ]
     },
     "execution_count": 9,
     "metadata": {},
     "output_type": "execute_result"
    },
    {
     "data": {
      "image/png": "[encoded data removed]",
      "text/plain": [
       "<Figure size 432x288 with 1 Axes>"
      ]
     },
     "metadata": {
      "needs_background": "light"
     },
     "output_type": "display_data"
    }
   ],
   "source": [
    "# -*- coding: utf-8 -*-\n",
    "# 使用LR进行MNIST手写数字分类\n",
    "from sklearn.model_selection import train_test_split\n",
    "from sklearn.metrics import accuracy_score\n",
    "import string\n",
    "from sklearn.datasets import load_digits\n",
    "from sklearn import preprocessing\n",
    "import matplotlib.pyplot as plt\n",
    "from sklearn.tree import DecisionTreeClassifier\n",
    "\n",
    "# 加载数据\n",
    "digits = load_digits()\n",
    "data = digits.data\n",
    "\n",
    "\n",
    "\n",
    "\n",
    "# 数据探索\n",
    "print(data.shape)\n",
    "# 查看第一幅图像\n",
    "print(digits.images[0])\n",
    "# 第一幅图像代表的数字含义\n",
    "print(digits.target[0])\n",
    "# 将第一幅图像显示出来\n",
    "plt.gray()\n",
    "plt.title('Handwritten Digits')\n",
    "#plt.imshow(digits.images[0])\n",
    "#plt.show()\n",
    "\n",
    "# 分割数据，将25%的数据作为测试集，其余作为训练集\n",
    "train_x, test_x, train_y, test_y = train_test_split(data, digits.target, test_size=0.25, random_state=33)\n",
    "\n",
    "# 采用Z-Score规范化\n",
    "ss = preprocessing.StandardScaler()\n",
    "train_ss_x = ss.fit_transform(train_x)\n",
    "test_ss_x = ss.transform(test_x)\n",
    "\n",
    "# 创建CART分类器\n",
    "\n",
    "yy=[]\n",
    "for depth in range(5,26):\n",
    "    clf=DecisionTreeClassifier(max_depth=depth);\n",
    "    clf.fit(train_ss_x, train_y)\n",
    "    predict_y=clf.predict(test_ss_x)\n",
    "    a=accuracy_score(predict_y, test_y)\n",
    "    yy.append(a)\n",
    "\n",
    "    print('深度: %0.4lf' %depth)\n",
    "    print('CART准确率: %0.4lf' % a)    \n",
    "    \n",
    "print('————不同的深度值对应的准确率————')\n",
    "xx=range(5,26)\n",
    "plt.plot(xx,yy)\n",
    "plt.xlabel('depth')\n",
    "plt.ylabel('accuracy')\n",
    "\n",
    "    \n",
    "    \n",
    "\n",
    "\n",
    "\n"
   ]
  }
 ],
 "metadata": {
  "kernelspec": {
   "display_name": "Python 3",
   "language": "python",
   "name": "python3"
  },
  "language_info": {
   "codemirror_mode": {
    "name": "ipython",
    "version": 3
   },
   "file_extension": ".py",
   "mimetype": "text/x-python",
   "name": "python",
   "nbconvert_exporter": "python",
   "pygments_lexer": "ipython3",
   "version": "3.7.2"
  },
  "toc": {
   "base_numbering": 1,
   "nav_menu": {},
   "number_sections": true,
   "sideBar": true,
   "skip_h1_title": false,
   "title_cell": "Table of Contents",
   "title_sidebar": "Contents",
   "toc_cell": false,
   "toc_position": {},
   "toc_section_display": true,
   "toc_window_display": false
  }
 },
 "nbformat": 4,
 "nbformat_minor": 4
}
