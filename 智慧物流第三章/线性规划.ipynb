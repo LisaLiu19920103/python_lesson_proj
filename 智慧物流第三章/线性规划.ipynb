{
 "cells": [
  {
   "cell_type": "markdown",
   "metadata": {},
   "source": [
    "# Thinking\n",
    "Thinking1\t常见的规划问题都包括哪些？\n",
    "        答：常见的规划问题包括：线性规划，例如在实际生产线上遇到的成本收益问题；整数线性规划，当决策变量都必须为整数时，线性规划问题则变成了整数线性规划，例如车辆运输问题，当车辆大小不一，且运输的货物只能按整箱来计算，这就涉及到整数线性规划问题了；混合整数规划是指部分决策变量为整数的线性规划问题，这种问题相比前面两种在实际应用中更加常见；车辆路径问题，指通过最少的时间、最短的路径来满足不同地点用户的不同需求的规划问题。\n",
    "        \n",
    "Thinking2\t常用的规划工具包都有哪些？\n",
    "        答：包括ortools、pulp、ortools等。\n",
    "        \n",
    "Thinking3\tRFM模型的原理是怎样的？\n",
    "        答：RFM模型是一种用户分层模型，它通过分析每一位用户的最近一次消费 (Recency)、消费频率 (Frequency)、消费金额 (Monetary)三个指标将用户划分到不同的策略等级上，包括：重要价值用户、重要发展用户、重要保持用户、重要挽留用户、一般价值用户、一般发展用户、一般保持用户、一般挽留用户这几类上，然后在用户管理上，根据用户的层级来进行不同的营销策略，从而使企业在相对较小的营销成本上获得更大的收益。\n"
   ]
  },
  {
   "cell_type": "code",
   "execution_count": 1,
   "metadata": {},
   "outputs": [
    {
     "name": "stdout",
     "output_type": "stream",
     "text": [
      "Defaulting to user installation because normal site-packages is not writeable\n",
      "Looking in indexes: https://pypi.tuna.tsinghua.edu.cn/simple\n",
      "Requirement already satisfied: pulp in /home/stu_13871323756/.local/lib/python3.7/site-packages (2.3.1)\n",
      "Requirement already satisfied: amply>=0.1.2 in /home/stu_13871323756/.local/lib/python3.7/site-packages (from pulp) (0.1.4)\n",
      "Requirement already satisfied: docutils>=0.3 in /opt/conda/lib/python3.7/site-packages (from amply>=0.1.2->pulp) (0.15.2)\n",
      "Requirement already satisfied: pyparsing in /opt/conda/lib/python3.7/site-packages (from amply>=0.1.2->pulp) (2.4.7)\n"
     ]
    }
   ],
   "source": [
    "!pip install pulp -i https://pypi.tuna.tsinghua.edu.cn/simple"
   ]
  },
  {
   "cell_type": "code",
   "execution_count": 2,
   "metadata": {},
   "outputs": [
    {
     "name": "stdout",
     "output_type": "stream",
     "text": [
      "Defaulting to user installation because normal site-packages is not writeable\n",
      "Looking in indexes: https://pypi.tuna.tsinghua.edu.cn/simple\n",
      "Requirement already satisfied: ortools in /home/stu_13871323756/.local/lib/python3.7/site-packages (8.0.8283)\n",
      "Requirement already satisfied: six>=1.10 in /opt/conda/lib/python3.7/site-packages (from ortools) (1.14.0)\n",
      "Requirement already satisfied: protobuf>=3.13.0 in /opt/conda/lib/python3.7/site-packages (from ortools) (3.13.0)\n",
      "Requirement already satisfied: setuptools in /opt/conda/lib/python3.7/site-packages (from protobuf>=3.13.0->ortools) (45.2.0.post20200210)\n"
     ]
    }
   ],
   "source": [
    "!pip install ortools -i https://pypi.tuna.tsinghua.edu.cn/simple"
   ]
  },
  {
   "cell_type": "code",
   "execution_count": 3,
   "metadata": {},
   "outputs": [],
   "source": [
    "import numpy as np\n",
    "from pprint import pprint\n",
    "import pulp"
   ]
  },
  {
   "cell_type": "code",
   "execution_count": 6,
   "metadata": {},
   "outputs": [],
   "source": [
    "def plant_problem(gain, x_max, y_max):\n",
    "    row = len(gain)\n",
    "    col = len(gain[0])\n",
    "    print(f'row:{row} col:{col}')\n",
    "    # 定义初始问题\n",
    "    prob = pulp.LpProblem('plant', sense=pulp.LpMaximize)\n",
    "    # 定义相关变量\n",
    "    var = [[pulp.LpVariable(f'x{i}{j}', lowBound=0, cat=pulp.LpInteger) for j in range(col)] for i in range(row)]\n",
    "    # 递归展开列表\n",
    "    flatten = lambda x: [y for l in x for y in flatten(l)] if type(x) is list else [x]\n",
    "    print('var=', var)\n",
    "    print('flatten=', flatten)\n",
    "    print('var[1]', var[1])\n",
    "    # 定义目标函数 （单价* {ij}运量）\n",
    "    prob += pulp.lpDot(flatten(var), gain.flatten())\n",
    "    # 定义约束条件\n",
    "    for i in range(row):\n",
    "        prob += pulp.lpSum(var[i]) <= x_max[i]\n",
    "    for j in range(col):\n",
    "        prob += pulp.lpSum([var[i][j] for i in range(row)]) <= y_max[j]\n",
    "\n",
    "    prob.solve()\n",
    "    result = {'objective':pulp.value(prob.objective), \\\n",
    "              'var': [[pulp.value(var[i][j]) for j in range(col)] for i in range(row)]}\n",
    "    return result\n"
   ]
  },
  {
   "cell_type": "code",
   "execution_count": 8,
   "metadata": {},
   "outputs": [
    {
     "name": "stdout",
     "output_type": "stream",
     "text": [
      "row:4 col:6\n",
      "var= [[x00, x01, x02, x03, x04, x05], [x10, x11, x12, x13, x14, x15], [x20, x21, x22, x23, x24, x25], [x30, x31, x32, x33, x34, x35]]\n",
      "flatten= <function plant_problem.<locals>.<lambda> at 0x7f9c68492680>\n",
      "var[1] [x10, x11, x12, x13, x14, x15]\n",
      "最大值为284230.0\n",
      "各变量的取值为：\n",
      "[[0.0, 0.0, 6.0, 39.0, 31.0, 0.0],\n",
      " [0.0, 0.0, 0.0, 0.0, 29.0, 59.0],\n",
      " [2.0, 56.0, 38.0, 0.0, 0.0, 0.0],\n",
      " [40.0, 0.0, 0.0, 0.0, 0.0, 0.0]]\n"
     ]
    }
   ],
   "source": [
    "# 耕地播种策略问题\n",
    "if __name__ == '__main__':\n",
    "#不同土地上播种不同作物的产量\n",
    "    gain = np.array([[500, 550, 630, 1000, 800, 700],\n",
    "                      [800, 700, 600, 950, 900, 930],\n",
    "                      [1000, 960, 840, 650, 600, 700],\n",
    "                      [1200, 1040, 980, 860, 880, 780]])\n",
    "    # 各种作物的计划播种面积\n",
    "    max_plant = [76, 88, 96, 40]\n",
    "    # 各个地块的面积\n",
    "    max_cultivation = [42, 56, 44, 39, 60, 59]\n",
    "    # 使用线性规划\n",
    "    result = plant_problem(gain, max_plant, max_cultivation)\n",
    "# 输出结果\n",
    "    print(f'最大值为{result[\"objective\"]}')\n",
    "    print('各变量的取值为：')\n",
    "    pprint(result['var'])\n",
    "#从结果可以看出要想获得最好的收益，方案为：\n",
    "#1.小麦在3号地播种6亩，在4号地39亩，在5号地31亩\n",
    "#2.玉米在5号播种29，6号播种59\n",
    "#3.水果在1号播种2亩，2号播种56亩，3号播种38亩\n",
    "#4.蔬菜在1号播种40亩"
   ]
  },
  {
   "cell_type": "code",
   "execution_count": null,
   "metadata": {},
   "outputs": [],
   "source": []
  }
 ],
 "metadata": {
  "kernelspec": {
   "display_name": "Python 3",
   "language": "python",
   "name": "python3"
  },
  "language_info": {
   "codemirror_mode": {
    "name": "ipython",
    "version": 3
   },
   "file_extension": ".py",
   "mimetype": "text/x-python",
   "name": "python",
   "nbconvert_exporter": "python",
   "pygments_lexer": "ipython3",
   "version": "3.7.6"
  }
 },
 "nbformat": 4,
 "nbformat_minor": 4
}
