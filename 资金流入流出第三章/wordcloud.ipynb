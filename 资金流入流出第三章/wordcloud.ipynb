{
 "cells": [
  {
   "cell_type": "code",
   "execution_count": 2,
   "metadata": {},
   "outputs": [],
   "source": [
    "import requests\n",
    "import bs4\n",
    "import pandas as pd\n",
    "from wordcloud import WordCloud"
   ]
  },
  {
   "cell_type": "code",
   "execution_count": 3,
   "metadata": {},
   "outputs": [],
   "source": [
    "url='https://3w.huanqiu.com/a/c36dc8/41jrPFAVyxy'\n",
    "html=requests.get(url,timeout=10)\n",
    "content =html.content\n",
    "#print(content)\n",
    "soup=bs4.BeautifulSoup(content,'html.parser',from_encoding='utf-8')\n",
    "text=soup.get_text()\n",
    "#print(text)"
   ]
  },
  {
   "cell_type": "code",
   "execution_count": 4,
   "metadata": {},
   "outputs": [
    {
     "name": "stderr",
     "output_type": "stream",
     "text": [
      "Building prefix dict from the default dictionary ...\n",
      "Loading model from cache C:\\Users\\lyr\\AppData\\Local\\Temp\\jieba.cache\n",
      "Loading model cost 2.033 seconds.\n",
      "Prefix dict has been built successfully.\n"
     ]
    },
    {
     "name": "stdout",
     "output_type": "stream",
     "text": [
      "人物: {'顾问', '和德', '边子豪', '小布什', '刘倩', '贾森', '特朗普', '鲍尔斯', '唐纳德', '布奇'}\n",
      "地点： {'南卡罗来纳州', '巴', '美国'}\n"
     ]
    }
   ],
   "source": [
    "import jieba.posseg as pseg\n",
    "import jieba\n",
    "words=pseg.lcut(text)\n",
    "new_person={word for word,flag in words if flag=='nr'}\n",
    "new_place={word for word,flag in words if flag=='ns'}\n",
    "print('人物:',new_person)\n",
    "print('地点：',new_place)\n"
   ]
  },
  {
   "cell_type": "code",
   "execution_count": 5,
   "metadata": {},
   "outputs": [
    {
     "name": "stdout",
     "output_type": "stream",
     "text": [
      "没人了？外媒：距弹劾案不足两周，5名律师离开特朗普法律团队没人了？外媒：距弹劾案不足两周，5名律师离开特朗普法律团队边子豪\n",
      "\n",
      "环球网环球网报道 记者 边子豪】特朗普弹劾案没律师了？美国有线电视新闻网当地时间30日援引消息人士的话称，在距离美国前总统特朗普的弹劾审判还有一周多时间之际，5名律师已经离开其法律团队，其中包括两名“领头”律师，理由是不赞同特朗普的“法律策略”。据报道，离开的律师中包括布奇·鲍尔斯和德博拉·巴比尔，这两位曾被认为是“领头”的律师。一名消息人士称，他们离开特朗普法律团队是双方“共同”做出的决定。报道介绍称，鲍尔斯是一名来自南卡罗来纳州的律师，曾于小布什政府期间在司法部任职。巴比尔同样来自南卡罗来纳州，曾在该州担任联邦检察官15年之久。特朗普前竞选顾问贾森·米勒告诉说，弹劾特朗普的决定“对国家有害”。他还说：“我们（特朗普团队）做了很多工作，但是还没有最终决定我们的法律团队（人选），很快就会决定。表示，律师的离开对特朗普来说是一个“戏剧性进展”，因为他一直在寻找愿意接手弹劾案的律师。弹劾审判几天后即将开始，特朗普仍坚持选举存在欺诈行为，现在突然发现自己没有律师。路透社也说，特朗普的法律团队陷入“混乱”。美国国会众议院本月13日投票通过针对唐纳德·特朗普的弹劾条款，使他成为美国历史上首位两度遭到弹劾的总统。参议院多数党领袖舒默曾表示，特朗普弹劾案审讯将于2月8日开始。\n",
      "\n",
      "责编：刘倩\n",
      "版权作品，未经环球网书面授权，严禁转载，违者将被追究法律责任。阅读数不感兴趣不感兴趣广告软文重复、旧闻文章质量差文字、图片、视频等展示问题标题夸张、文不对题与事实不符低俗色情欺诈或恶意营销疑似抄袭其他问题，我要吐槽确定*请填写原因感谢您的反馈，我们将会减少此类文章的推荐投诉热门图集\n"
     ]
    }
   ],
   "source": [
    "import re\n",
    "text=re.sub('[^[\\u4e00-\\u9fa5。,！：、]{3,}','',text)\n",
    "print(text)"
   ]
  },
  {
   "cell_type": "code",
   "execution_count": 6,
   "metadata": {},
   "outputs": [],
   "source": [
    "def remove_stop_words(text):\n",
    "    #stop_words=['的','是','在','他']\n",
    "    stop_words=[]\n",
    "    for word in open('G://python_lesson//L11//news//chineseStopWords.txt','r'):\n",
    "        stop_words.append(word.strip())\n",
    "    for stop_word in stop_words:\n",
    "        text=text.replace(stop_word,'')\n",
    "    return text\n",
    "def create_word_cloud(text):\n",
    "    text=remove_stop_words(text)\n",
    "    cut_text=jieba.lcut(text)\n",
    "    cut_text=\" \".join(cut_text)\n",
    "    wc=WordCloud(max_words=100,width=2000,height=1200,font_path='G://python_lesson//L11//news//msyh.ttf')\n",
    "    wordcloud=wc.generate(cut_text)\n",
    "    wordcloud.to_file(\"wordcloud.jpg\")\n",
    "create_word_cloud(text)"
   ]
  },
  {
   "cell_type": "code",
   "execution_count": 7,
   "metadata": {},
   "outputs": [],
   "source": [
    "from textrank4zh import TextRank4Keyword, TextRank4Sentence"
   ]
  },
  {
   "cell_type": "code",
   "execution_count": 8,
   "metadata": {},
   "outputs": [
    {
     "name": "stdout",
     "output_type": "stream",
     "text": [
      "关键词：\n",
      "特朗普 0.03880559910256373\n",
      "律师 0.029633709669955648\n",
      "弹劾案 0.017233763095965086\n",
      "法律 0.017059682574278034\n",
      "弹劾 0.016268401310587377\n",
      "团队 0.015521159861822127\n",
      "离开 0.013801002521566621\n",
      "决定 0.012991903094180766\n",
      "欺诈 0.012944480336588907\n",
      "问题 0.01286487102416144\n",
      "cnn 0.01240941909814733\n",
      "报道 0.011656198079069324\n",
      "鲍尔斯 0.010876212553638492\n",
      "美国 0.010378384557866337\n",
      "文章 0.01002825870812436\n",
      "包括 0.009995712488123868\n",
      "违者 0.009233818245065667\n",
      "严禁 0.009077382433711662\n",
      "转载 0.009075694034041645\n",
      "环球网 0.008922921447815266\n",
      "摘要：\n",
      "8 0.07304852276451526 美国有线电视新闻网（CNN）当地时间30日援引消息人士的话称，在距离美国前总统特朗普的弹劾审判还有一周多时间之际，5名律师已经离开其法律团队，其中包括两名“领头”律师，理由是不赞同特朗普的“法律策略”\n",
      "7 0.06913066348471221 【环球网报道 记者 边子豪】特朗普弹劾案没律师了\n",
      "1 0.06785627457837018 外媒：距弹劾案不足两周，5名律师离开特朗普法律团队\n"
     ]
    }
   ],
   "source": [
    "oritext=soup.get_text()\n",
    "tr4w = TextRank4Keyword()\n",
    "tr4w.analyze(text=oritext, lower=True, window=3)\n",
    "print('关键词：')\n",
    "for item in tr4w.get_keywords(20, word_min_len=2):\n",
    "    print(item.word, item.weight)\n",
    "\n",
    "\n",
    "# 输出重要的句子\n",
    "tr4s = TextRank4Sentence()\n",
    "tr4s.analyze(text=oritext, lower=True, source = 'all_filters')\n",
    "print('摘要：')\n",
    "# 重要性较高的三个句子\n",
    "for item in tr4s.get_key_sentences(num=3):\n",
    "    # index是语句在文本中位置，weight表示权重\n",
    "    print(item.index, item.weight, item.sentence)"
   ]
  },
  {
   "cell_type": "code",
   "execution_count": null,
   "metadata": {},
   "outputs": [],
   "source": []
  }
 ],
 "metadata": {
  "kernelspec": {
   "display_name": "Python 3",
   "language": "python",
   "name": "python3"
  },
  "language_info": {
   "codemirror_mode": {
    "name": "ipython",
    "version": 3
   },
   "file_extension": ".py",
   "mimetype": "text/x-python",
   "name": "python",
   "nbconvert_exporter": "python",
   "pygments_lexer": "ipython3",
   "version": "3.8.3"
  }
 },
 "nbformat": 4,
 "nbformat_minor": 4
}
