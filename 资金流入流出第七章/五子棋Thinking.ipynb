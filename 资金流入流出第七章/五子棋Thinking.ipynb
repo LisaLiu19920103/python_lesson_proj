{
 "cells": [
  {
   "cell_type": "markdown",
   "metadata": {},
   "source": [
    "## Thinking1\t请简述基于蒙特卡洛的强化学习的原理？\n",
    "                答：蒙特卡洛算法的主要思想就是利用随机采样的方式来估计真是概率分布，随机采样的样本数量越多，则可以认为得到的概率结果越逼近真实的分布模型，越容易获得最优解，\n",
    "                以下棋的强化学习为例，先是利用蒙特卡洛的思想来快速的随机走子，从而获得一部分采样数据，整个模型训练初期，可以认为这部分采样数据对神经网络而言是比较有价值的\n",
    "                指导数据，利用这部分数据来去训练初期的神经网络，这样既省时间也能在初期相对快的调优神经网络参数。\n",
    "                \n",
    "## Thinking2\t强化学习的目标与深度学习的目标有何区别？\n",
    "                答：深度学习是通过神经网络来进行模型的学习，学习的目标是预测值与真实值之间的loss越小越好，通过loss的下降方向来更新模型参数，从而找到更优的模型参数。而强化\n",
    "                学习不存在这种预测值与真实值的对比，强化学习是通过不断地训练，在一轮学习完成以后，通过环境的reward来判断action的价值，在大量的学习中来不断积累学习经验，当\n",
    "                使用时，就能够通过模型来判断当前所处的state来确定下一步最好action。\n"
   ]
  }
 ],
 "metadata": {
  "kernelspec": {
   "display_name": "Python 3",
   "language": "python",
   "name": "python3"
  },
  "language_info": {
   "codemirror_mode": {
    "name": "ipython",
    "version": 3
   },
   "file_extension": ".py",
   "mimetype": "text/x-python",
   "name": "python",
   "nbconvert_exporter": "python",
   "pygments_lexer": "ipython3",
   "version": "3.8.3"
  }
 },
 "nbformat": 4,
 "nbformat_minor": 4
}
