{
 "cells": [
  {
   "attachments": {},
   "cell_type": "markdown",
   "metadata": {},
   "source": [
    "Thinking1 关联规则中的支持度、置信度和提升度代表的什么，如何计算\n",
    "答：支持度指的是指的是某个商品组合出现的次数与总次数之间的比例，该商品组合出现的次数/项集。\n",
    "置信度是条件概率，指的是当你购买了商品A，会有多大的概率购买商品B。\n",
    "提升度：商品A的出现，对商品B的出现概率提升的程度，提升度(A→B)=置信度(A→B)/支持度(B)\n",
    "\n",
    "Thinking2 关联规则与协同过滤的区别\n",
    "答：关联规则是对用户群体的整体性的描述，不针对个人特征，描述所有用户存在的普遍规律，而协同过滤着眼于每一个人，从每一个人的视角看问题，是个性化的特征挖掘。\n",
    "\n",
    "Thinking3 为什么我们需要多种推荐算法\n",
    "答：不同的算法在不同的应用场景中都可能存在其优势和劣势，我们需要具体的场景具体的问题进行具体分析，比如冷启动下进行关联规则的推荐，线下超市场景进行关联规则的推荐，而淘宝等线上购物服务则采用协同过滤更为合适。\n",
    "\n",
    "Thinking4 关联规则中的最小支持度、最小置信度该如何确定\n",
    "答：最小支持度和最小置信度需要逐步实验出来，根据实际需要和实际实验各个参数取值下挖掘结果进行分析。\n",
    "\n",
    "Thinking5 都有哪些常见的回归分析方法，评价指标是什么\n",
    "答：线性回归，它通过最小化每个数据点到线的垂直偏差平方和来计算最佳拟合线。\n",
    "逻辑回归，通过观测样本的极大似然估计值来选择参数，进行参数优化。\n",
    "多项式回归，可以通过图形来观察过拟合和欠拟合的情况。\n",
    "逐步回归，逐步回归通过同时添加/删除基于指定标准的协变量来拟合模型。\n",
    "岭回归，岭回归通过收缩参数 λ(lambda)解决多重共线性问题。\n",
    "套索回归。\n",
    "ElasticNet 是 套索回归和岭回归技术的混合体。"
   ]
  },
  {
   "cell_type": "code",
   "execution_count": 15,
   "metadata": {},
   "outputs": [
    {
     "name": "stdout",
     "output_type": "stream",
     "text": [
      "<class 'pandas.core.series.Series'>\n",
      "频繁项集：      support                    itemsets\n",
      "0   0.087188                   (burgers)\n",
      "1   0.081056                      (cake)\n",
      "2   0.059992                   (chicken)\n",
      "3   0.163845                 (chocolate)\n",
      "4   0.080389                   (cookies)\n",
      "5   0.051060               (cooking oil)\n",
      "6   0.179709                      (eggs)\n",
      "7   0.079323                  (escalope)\n",
      "8   0.170911              (french fries)\n",
      "9   0.063325           (frozen smoothie)\n",
      "10  0.095321         (frozen vegetables)\n",
      "11  0.052393             (grated cheese)\n",
      "12  0.132116                 (green tea)\n",
      "13  0.098254               (ground beef)\n",
      "14  0.076523            (low fat yogurt)\n",
      "15  0.129583                      (milk)\n",
      "16  0.238368             (mineral water)\n",
      "17  0.065858                 (olive oil)\n",
      "18  0.095054                  (pancakes)\n",
      "19  0.071457                    (shrimp)\n",
      "20  0.050527                      (soup)\n",
      "21  0.174110                 (spaghetti)\n",
      "22  0.068391                  (tomatoes)\n",
      "23  0.062525                    (turkey)\n",
      "24  0.058526          (whole wheat rice)\n",
      "25  0.052660  (mineral water, chocolate)\n",
      "26  0.050927       (eggs, mineral water)\n",
      "27  0.059725  (spaghetti, mineral water)\n",
      "关联规则：        antecedents      consequents  antecedent support  consequent support  \\\n",
      "0  (mineral water)      (chocolate)            0.238368            0.163845   \n",
      "1      (chocolate)  (mineral water)            0.163845            0.238368   \n",
      "2           (eggs)  (mineral water)            0.179709            0.238368   \n",
      "3  (mineral water)           (eggs)            0.238368            0.179709   \n",
      "4      (spaghetti)  (mineral water)            0.174110            0.238368   \n",
      "5  (mineral water)      (spaghetti)            0.238368            0.174110   \n",
      "\n",
      "    support  confidence      lift  leverage  conviction  \n",
      "0  0.052660    0.220917  1.348332  0.013604    1.073256  \n",
      "1  0.052660    0.321400  1.348332  0.013604    1.122357  \n",
      "2  0.050927    0.283383  1.188845  0.008090    1.062815  \n",
      "3  0.050927    0.213647  1.188845  0.008090    1.043158  \n",
      "4  0.059725    0.343032  1.439085  0.018223    1.159314  \n",
      "5  0.059725    0.250559  1.439085  0.018223    1.102008  \n"
     ]
    }
   ],
   "source": [
    "import pandas as pd\n",
    "import numpy as np\n",
    "from mlxtend.frequent_patterns import apriori\n",
    "from mlxtend.frequent_patterns import association_rules\n",
    "ori_data=pd.read_csv(\"G:\\\\python_lesson\\\\8127_11403_bundle_archive\\\\Market_Basket_Optimisation.csv\",sep=\"\\t\",header=None)\n",
    "#print(ori_data.first)\n",
    "print(type(ori_data[0]))\n",
    "data=ori_data[0].str.get_dummies(sep=\",\")\n",
    "frequent_itemsets = apriori(data, min_support=0.05, use_colnames=True)\n",
    "rules = association_rules(frequent_itemsets, metric=\"lift\", min_threshold=1)\n",
    "print(\"频繁项集：\",frequent_itemsets)\n",
    "print(\"关联规则：\",rules)\n",
    "#print(data)\n",
    "#print(data.head)\n",
    "\n",
    "#transformed_data.str.getdummis()\n",
    "#print(transformed_data)\n",
    "#print(ori_data.shape)\n"
   ]
  },
  {
   "cell_type": "code",
   "execution_count": null,
   "metadata": {},
   "outputs": [],
   "source": []
  },
  {
   "cell_type": "code",
   "execution_count": null,
   "metadata": {},
   "outputs": [],
   "source": []
  }
 ],
 "metadata": {
  "kernelspec": {
   "display_name": "Python 3",
   "language": "python",
   "name": "python3"
  },
  "language_info": {
   "codemirror_mode": {
    "name": "ipython",
    "version": 3
   },
   "file_extension": ".py",
   "mimetype": "text/x-python",
   "name": "python",
   "nbconvert_exporter": "python",
   "pygments_lexer": "ipython3",
   "version": "3.7.2"
  },
  "toc": {
   "base_numbering": 1,
   "nav_menu": {},
   "number_sections": true,
   "sideBar": true,
   "skip_h1_title": false,
   "title_cell": "Table of Contents",
   "title_sidebar": "Contents",
   "toc_cell": false,
   "toc_position": {},
   "toc_section_display": true,
   "toc_window_display": false
  }
 },
 "nbformat": 4,
 "nbformat_minor": 4
}
